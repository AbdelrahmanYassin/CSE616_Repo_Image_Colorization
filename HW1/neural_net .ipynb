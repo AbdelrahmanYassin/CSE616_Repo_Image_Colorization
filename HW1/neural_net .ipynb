{
  "cells": [
    {
      "cell_type": "markdown",
      "id": "greater-history",
      "metadata": {
        "id": "greater-history"
      },
      "source": [
        "# Artificial Neural Network For Multi-Classification - Python Implementation "
      ]
    },
    {
      "cell_type": "markdown",
      "id": "connected-climate",
      "metadata": {
        "id": "connected-climate"
      },
      "source": [
        "Abdelrahman Ibrahim Yassin Ahmad\n",
        "\n",
        "1902394@eng.asu.edu.eg"
      ]
    },
    {
      "cell_type": "markdown",
      "id": "verified-password",
      "metadata": {
        "id": "verified-password"
      },
      "source": [
        "### General steps for a classification problem:\n",
        "1. Importing Necessary Libraries\n",
        "2. Read, analyze and visualize the dataset\n",
        "3. Define helper functions\n",
        "4. Prepare the dataset for training\n",
        "5. Build neural network model\n",
        "6. Train and plot the accuracy of the model"
      ]
    },
    {
      "cell_type": "markdown",
      "id": "otherwise-polls",
      "metadata": {
        "id": "otherwise-polls"
      },
      "source": [
        "**1. Importing Necessary Libraries**\n"
      ]
    },
    {
      "cell_type": "code",
      "execution_count": null,
      "id": "subsequent-challenge",
      "metadata": {
        "id": "subsequent-challenge"
      },
      "outputs": [],
      "source": [
        "import numpy as np\n",
        "import pandas as pd\n",
        "import matplotlib.pyplot as plt\n",
        "from scipy import stats"
      ]
    },
    {
      "cell_type": "markdown",
      "id": "civilian-front",
      "metadata": {
        "id": "civilian-front"
      },
      "source": [
        "**2. Read, analyze and visualize the dataset**"
      ]
    },
    {
      "cell_type": "code",
      "execution_count": null,
      "id": "unlike-buffer",
      "metadata": {
        "colab": {
          "base_uri": "https://localhost:8080/",
          "height": 206
        },
        "id": "unlike-buffer",
        "outputId": "1ac96e57-3736-4845-d8bb-9872655d39a6"
      },
      "outputs": [
        {
          "output_type": "execute_result",
          "data": {
            "text/plain": [
              "   fixed acidity  volatile acidity  citric acid  residual sugar  chlorides  \\\n",
              "0            7.4              0.70         0.00             1.9      0.076   \n",
              "1            7.8              0.88         0.00             2.6      0.098   \n",
              "2            7.8              0.76         0.04             2.3      0.092   \n",
              "3           11.2              0.28         0.56             1.9      0.075   \n",
              "4            7.4              0.70         0.00             1.9      0.076   \n",
              "\n",
              "   free sulfur dioxide  total sulfur dioxide  density    pH  sulphates  \\\n",
              "0                 11.0                  34.0   0.9978  3.51       0.56   \n",
              "1                 25.0                  67.0   0.9968  3.20       0.68   \n",
              "2                 15.0                  54.0   0.9970  3.26       0.65   \n",
              "3                 17.0                  60.0   0.9980  3.16       0.58   \n",
              "4                 11.0                  34.0   0.9978  3.51       0.56   \n",
              "\n",
              "   alcohol  quality  \n",
              "0      9.4        5  \n",
              "1      9.8        5  \n",
              "2      9.8        5  \n",
              "3      9.8        6  \n",
              "4      9.4        5  "
            ],
            "text/html": [
              "\n",
              "  <div id=\"df-ec50de76-ecc9-4b50-a137-03c2d8c7a97e\">\n",
              "    <div class=\"colab-df-container\">\n",
              "      <div>\n",
              "<style scoped>\n",
              "    .dataframe tbody tr th:only-of-type {\n",
              "        vertical-align: middle;\n",
              "    }\n",
              "\n",
              "    .dataframe tbody tr th {\n",
              "        vertical-align: top;\n",
              "    }\n",
              "\n",
              "    .dataframe thead th {\n",
              "        text-align: right;\n",
              "    }\n",
              "</style>\n",
              "<table border=\"1\" class=\"dataframe\">\n",
              "  <thead>\n",
              "    <tr style=\"text-align: right;\">\n",
              "      <th></th>\n",
              "      <th>fixed acidity</th>\n",
              "      <th>volatile acidity</th>\n",
              "      <th>citric acid</th>\n",
              "      <th>residual sugar</th>\n",
              "      <th>chlorides</th>\n",
              "      <th>free sulfur dioxide</th>\n",
              "      <th>total sulfur dioxide</th>\n",
              "      <th>density</th>\n",
              "      <th>pH</th>\n",
              "      <th>sulphates</th>\n",
              "      <th>alcohol</th>\n",
              "      <th>quality</th>\n",
              "    </tr>\n",
              "  </thead>\n",
              "  <tbody>\n",
              "    <tr>\n",
              "      <th>0</th>\n",
              "      <td>7.4</td>\n",
              "      <td>0.70</td>\n",
              "      <td>0.00</td>\n",
              "      <td>1.9</td>\n",
              "      <td>0.076</td>\n",
              "      <td>11.0</td>\n",
              "      <td>34.0</td>\n",
              "      <td>0.9978</td>\n",
              "      <td>3.51</td>\n",
              "      <td>0.56</td>\n",
              "      <td>9.4</td>\n",
              "      <td>5</td>\n",
              "    </tr>\n",
              "    <tr>\n",
              "      <th>1</th>\n",
              "      <td>7.8</td>\n",
              "      <td>0.88</td>\n",
              "      <td>0.00</td>\n",
              "      <td>2.6</td>\n",
              "      <td>0.098</td>\n",
              "      <td>25.0</td>\n",
              "      <td>67.0</td>\n",
              "      <td>0.9968</td>\n",
              "      <td>3.20</td>\n",
              "      <td>0.68</td>\n",
              "      <td>9.8</td>\n",
              "      <td>5</td>\n",
              "    </tr>\n",
              "    <tr>\n",
              "      <th>2</th>\n",
              "      <td>7.8</td>\n",
              "      <td>0.76</td>\n",
              "      <td>0.04</td>\n",
              "      <td>2.3</td>\n",
              "      <td>0.092</td>\n",
              "      <td>15.0</td>\n",
              "      <td>54.0</td>\n",
              "      <td>0.9970</td>\n",
              "      <td>3.26</td>\n",
              "      <td>0.65</td>\n",
              "      <td>9.8</td>\n",
              "      <td>5</td>\n",
              "    </tr>\n",
              "    <tr>\n",
              "      <th>3</th>\n",
              "      <td>11.2</td>\n",
              "      <td>0.28</td>\n",
              "      <td>0.56</td>\n",
              "      <td>1.9</td>\n",
              "      <td>0.075</td>\n",
              "      <td>17.0</td>\n",
              "      <td>60.0</td>\n",
              "      <td>0.9980</td>\n",
              "      <td>3.16</td>\n",
              "      <td>0.58</td>\n",
              "      <td>9.8</td>\n",
              "      <td>6</td>\n",
              "    </tr>\n",
              "    <tr>\n",
              "      <th>4</th>\n",
              "      <td>7.4</td>\n",
              "      <td>0.70</td>\n",
              "      <td>0.00</td>\n",
              "      <td>1.9</td>\n",
              "      <td>0.076</td>\n",
              "      <td>11.0</td>\n",
              "      <td>34.0</td>\n",
              "      <td>0.9978</td>\n",
              "      <td>3.51</td>\n",
              "      <td>0.56</td>\n",
              "      <td>9.4</td>\n",
              "      <td>5</td>\n",
              "    </tr>\n",
              "  </tbody>\n",
              "</table>\n",
              "</div>\n",
              "      <button class=\"colab-df-convert\" onclick=\"convertToInteractive('df-ec50de76-ecc9-4b50-a137-03c2d8c7a97e')\"\n",
              "              title=\"Convert this dataframe to an interactive table.\"\n",
              "              style=\"display:none;\">\n",
              "        \n",
              "  <svg xmlns=\"http://www.w3.org/2000/svg\" height=\"24px\"viewBox=\"0 0 24 24\"\n",
              "       width=\"24px\">\n",
              "    <path d=\"M0 0h24v24H0V0z\" fill=\"none\"/>\n",
              "    <path d=\"M18.56 5.44l.94 2.06.94-2.06 2.06-.94-2.06-.94-.94-2.06-.94 2.06-2.06.94zm-11 1L8.5 8.5l.94-2.06 2.06-.94-2.06-.94L8.5 2.5l-.94 2.06-2.06.94zm10 10l.94 2.06.94-2.06 2.06-.94-2.06-.94-.94-2.06-.94 2.06-2.06.94z\"/><path d=\"M17.41 7.96l-1.37-1.37c-.4-.4-.92-.59-1.43-.59-.52 0-1.04.2-1.43.59L10.3 9.45l-7.72 7.72c-.78.78-.78 2.05 0 2.83L4 21.41c.39.39.9.59 1.41.59.51 0 1.02-.2 1.41-.59l7.78-7.78 2.81-2.81c.8-.78.8-2.07 0-2.86zM5.41 20L4 18.59l7.72-7.72 1.47 1.35L5.41 20z\"/>\n",
              "  </svg>\n",
              "      </button>\n",
              "      \n",
              "  <style>\n",
              "    .colab-df-container {\n",
              "      display:flex;\n",
              "      flex-wrap:wrap;\n",
              "      gap: 12px;\n",
              "    }\n",
              "\n",
              "    .colab-df-convert {\n",
              "      background-color: #E8F0FE;\n",
              "      border: none;\n",
              "      border-radius: 50%;\n",
              "      cursor: pointer;\n",
              "      display: none;\n",
              "      fill: #1967D2;\n",
              "      height: 32px;\n",
              "      padding: 0 0 0 0;\n",
              "      width: 32px;\n",
              "    }\n",
              "\n",
              "    .colab-df-convert:hover {\n",
              "      background-color: #E2EBFA;\n",
              "      box-shadow: 0px 1px 2px rgba(60, 64, 67, 0.3), 0px 1px 3px 1px rgba(60, 64, 67, 0.15);\n",
              "      fill: #174EA6;\n",
              "    }\n",
              "\n",
              "    [theme=dark] .colab-df-convert {\n",
              "      background-color: #3B4455;\n",
              "      fill: #D2E3FC;\n",
              "    }\n",
              "\n",
              "    [theme=dark] .colab-df-convert:hover {\n",
              "      background-color: #434B5C;\n",
              "      box-shadow: 0px 1px 3px 1px rgba(0, 0, 0, 0.15);\n",
              "      filter: drop-shadow(0px 1px 2px rgba(0, 0, 0, 0.3));\n",
              "      fill: #FFFFFF;\n",
              "    }\n",
              "  </style>\n",
              "\n",
              "      <script>\n",
              "        const buttonEl =\n",
              "          document.querySelector('#df-ec50de76-ecc9-4b50-a137-03c2d8c7a97e button.colab-df-convert');\n",
              "        buttonEl.style.display =\n",
              "          google.colab.kernel.accessAllowed ? 'block' : 'none';\n",
              "\n",
              "        async function convertToInteractive(key) {\n",
              "          const element = document.querySelector('#df-ec50de76-ecc9-4b50-a137-03c2d8c7a97e');\n",
              "          const dataTable =\n",
              "            await google.colab.kernel.invokeFunction('convertToInteractive',\n",
              "                                                     [key], {});\n",
              "          if (!dataTable) return;\n",
              "\n",
              "          const docLinkHtml = 'Like what you see? Visit the ' +\n",
              "            '<a target=\"_blank\" href=https://colab.research.google.com/notebooks/data_table.ipynb>data table notebook</a>'\n",
              "            + ' to learn more about interactive tables.';\n",
              "          element.innerHTML = '';\n",
              "          dataTable['output_type'] = 'display_data';\n",
              "          await google.colab.output.renderOutput(dataTable, element);\n",
              "          const docLink = document.createElement('div');\n",
              "          docLink.innerHTML = docLinkHtml;\n",
              "          element.appendChild(docLink);\n",
              "        }\n",
              "      </script>\n",
              "    </div>\n",
              "  </div>\n",
              "  "
            ]
          },
          "metadata": {},
          "execution_count": 3
        }
      ],
      "source": [
        "data = pd.read_csv('winequality-red.csv', sep=';')\n",
        "data.head()"
      ]
    },
    {
      "cell_type": "code",
      "execution_count": null,
      "id": "knowing-strap",
      "metadata": {
        "colab": {
          "base_uri": "https://localhost:8080/"
        },
        "id": "knowing-strap",
        "outputId": "61462658-e07c-4b88-84fb-a07489f19c0c"
      },
      "outputs": [
        {
          "output_type": "stream",
          "name": "stdout",
          "text": [
            "<class 'pandas.core.frame.DataFrame'>\n",
            "RangeIndex: 1599 entries, 0 to 1598\n",
            "Data columns (total 12 columns):\n",
            " #   Column                Non-Null Count  Dtype  \n",
            "---  ------                --------------  -----  \n",
            " 0   fixed acidity         1599 non-null   float64\n",
            " 1   volatile acidity      1599 non-null   float64\n",
            " 2   citric acid           1599 non-null   float64\n",
            " 3   residual sugar        1599 non-null   float64\n",
            " 4   chlorides             1599 non-null   float64\n",
            " 5   free sulfur dioxide   1599 non-null   float64\n",
            " 6   total sulfur dioxide  1599 non-null   float64\n",
            " 7   density               1599 non-null   float64\n",
            " 8   pH                    1599 non-null   float64\n",
            " 9   sulphates             1599 non-null   float64\n",
            " 10  alcohol               1599 non-null   float64\n",
            " 11  quality               1599 non-null   int64  \n",
            "dtypes: float64(11), int64(1)\n",
            "memory usage: 150.0 KB\n"
          ]
        }
      ],
      "source": [
        "data.info()"
      ]
    },
    {
      "cell_type": "markdown",
      "id": "close-greece",
      "metadata": {
        "id": "close-greece"
      },
      "source": [
        "Our dataset contain **1559** data samples and **12** columns/features with numerical float values."
      ]
    },
    {
      "cell_type": "code",
      "execution_count": null,
      "id": "related-circular",
      "metadata": {
        "colab": {
          "base_uri": "https://localhost:8080/",
          "height": 1000
        },
        "id": "related-circular",
        "outputId": "ce22f773-b375-436a-e772-003d888ec8d7"
      },
      "outputs": [
        {
          "output_type": "execute_result",
          "data": {
            "text/plain": [
              "array([[<matplotlib.axes._subplots.AxesSubplot object at 0x7f8d70c82ed0>,\n",
              "        <matplotlib.axes._subplots.AxesSubplot object at 0x7f8d70c63950>,\n",
              "        <matplotlib.axes._subplots.AxesSubplot object at 0x7f8d70c1cf10>],\n",
              "       [<matplotlib.axes._subplots.AxesSubplot object at 0x7f8d70bdf190>,\n",
              "        <matplotlib.axes._subplots.AxesSubplot object at 0x7f8d70b94790>,\n",
              "        <matplotlib.axes._subplots.AxesSubplot object at 0x7f8d70b4dd90>],\n",
              "       [<matplotlib.axes._subplots.AxesSubplot object at 0x7f8d70b0f450>,\n",
              "        <matplotlib.axes._subplots.AxesSubplot object at 0x7f8d70ac6990>,\n",
              "        <matplotlib.axes._subplots.AxesSubplot object at 0x7f8d70ac69d0>],\n",
              "       [<matplotlib.axes._subplots.AxesSubplot object at 0x7f8d70a89110>,\n",
              "        <matplotlib.axes._subplots.AxesSubplot object at 0x7f8d709f5c10>,\n",
              "        <matplotlib.axes._subplots.AxesSubplot object at 0x7f8d709ba250>]],\n",
              "      dtype=object)"
            ]
          },
          "metadata": {},
          "execution_count": 5
        },
        {
          "output_type": "display_data",
          "data": {
            "text/plain": [
              "<Figure size 1008x1008 with 12 Axes>"
            ],
            "image/png": "[encoded data removed]"
          },
          "metadata": {
            "needs_background": "light"
          }
        }
      ],
      "source": [
        "data.hist(figsize=(14,14))"
      ]
    },
    {
      "cell_type": "markdown",
      "id": "amateur-static",
      "metadata": {
        "id": "amateur-static"
      },
      "source": [
        "The target feature is ***quality*** and it has 6 discrete values {3,4,5,6,7,8}"
      ]
    },
    {
      "cell_type": "markdown",
      "id": "dressed-orbit",
      "metadata": {
        "id": "dressed-orbit"
      },
      "source": [
        "**3. Define helper functions**"
      ]
    },
    {
      "cell_type": "markdown",
      "id": "corrected-anchor",
      "metadata": {
        "id": "corrected-anchor"
      },
      "source": [
        "**shuffle_split_data** function which split the dataset into training and testing sets according to defined split ratio"
      ]
    },
    {
      "cell_type": "code",
      "execution_count": null,
      "id": "frank-bishop",
      "metadata": {
        "id": "frank-bishop"
      },
      "outputs": [],
      "source": [
        "def shuffle_split_data(X, y, ratio):\n",
        "    arr_rand = np.random.rand(X.shape[0])\n",
        "    split = arr_rand < np.percentile(arr_rand, ratio)\n",
        "    #split = np.random.choice(range(X.shape[0]), int((ratio/100)*X.shape[0]))\n",
        "    X_train = X[~split]\n",
        "    y_train = y[~split]\n",
        "    X_test =  X[split]\n",
        "    y_test = y[split]\n",
        "\n",
        "    #print (len(X_train), len(y_train), len(X_test), len(y_test))\n",
        "    return X_train, y_train, X_test, y_test"
      ]
    },
    {
      "cell_type": "markdown",
      "id": "modified-karaoke",
      "metadata": {
        "id": "modified-karaoke"
      },
      "source": [
        "**encode_and_bind** function which apply One Hot encoding on the target feature"
      ]
    },
    {
      "cell_type": "code",
      "execution_count": null,
      "id": "considerable-gender",
      "metadata": {
        "id": "considerable-gender"
      },
      "outputs": [],
      "source": [
        "def one_hot_encode(array):\n",
        "    \"\"\"Convert an iterable of indices to one-hot encoded labels.\"\"\"\n",
        "    unique, inverse = np.unique(array, return_inverse=True)\n",
        "    onehot = np.eye(unique.shape[0])[inverse]\n",
        "    return onehot"
      ]
    },
    {
      "cell_type": "markdown",
      "id": "honey-buddy",
      "metadata": {
        "id": "honey-buddy"
      },
      "source": [
        "**standardize** function which normalize the data by subtracting the mean and dividing by the \n",
        "stdev for each feature and each sample"
      ]
    },
    {
      "cell_type": "code",
      "execution_count": null,
      "id": "generous-enforcement",
      "metadata": {
        "id": "generous-enforcement"
      },
      "outputs": [],
      "source": [
        "def standardize(data):\n",
        "    #Compute the mean\n",
        "    data_mean = data.sum(axis=0)/data.shape[0]\n",
        "    #Compute the standard deviation\n",
        "    data_std = np.std(data, axis=0, dtype=np.float64)\n",
        "    #Standardize the data\n",
        "    data_standard = (data - data_mean)/data_std\n",
        "    \n",
        "    return data_standard"
      ]
    },
    {
      "cell_type": "markdown",
      "id": "graphic-adjustment",
      "metadata": {
        "id": "graphic-adjustment"
      },
      "source": [
        "**4. Prepare the dataset for training**"
      ]
    },
    {
      "cell_type": "markdown",
      "id": "still-being",
      "metadata": {
        "id": "still-being"
      },
      "source": [
        "Check  duplicates"
      ]
    },
    {
      "cell_type": "code",
      "execution_count": null,
      "id": "furnished-opera",
      "metadata": {
        "colab": {
          "base_uri": "https://localhost:8080/",
          "height": 206
        },
        "id": "furnished-opera",
        "outputId": "62978be8-c1bf-421d-f62b-b9412dc08f20"
      },
      "outputs": [
        {
          "output_type": "execute_result",
          "data": {
            "text/plain": [
              "      fixed acidity  volatile acidity  citric acid  residual sugar  chlorides  \\\n",
              "498            10.7              0.35         0.53            2.60      0.070   \n",
              "495            10.7              0.35         0.53            2.60      0.070   \n",
              "290             8.7              0.52         0.09            2.50      0.091   \n",
              "1002            9.1              0.29         0.33            2.05      0.063   \n",
              "997             5.6              0.66         0.00            2.20      0.087   \n",
              "\n",
              "      free sulfur dioxide  total sulfur dioxide  density    pH  sulphates  \\\n",
              "498                   5.0                  16.0  0.99720  3.15       0.65   \n",
              "495                   5.0                  16.0  0.99720  3.15       0.65   \n",
              "290                  20.0                  49.0  0.99760  3.34       0.86   \n",
              "1002                 13.0                  27.0  0.99516  3.26       0.84   \n",
              "997                   3.0                  11.0  0.99378  3.71       0.63   \n",
              "\n",
              "      alcohol  quality  \n",
              "498      11.0        8  \n",
              "495      11.0        8  \n",
              "290      10.6        7  \n",
              "1002     11.7        7  \n",
              "997      12.8        7  "
            ],
            "text/html": [
              "\n",
              "  <div id=\"df-945cc44d-da8c-451e-a5cc-94f325cee60e\">\n",
              "    <div class=\"colab-df-container\">\n",
              "      <div>\n",
              "<style scoped>\n",
              "    .dataframe tbody tr th:only-of-type {\n",
              "        vertical-align: middle;\n",
              "    }\n",
              "\n",
              "    .dataframe tbody tr th {\n",
              "        vertical-align: top;\n",
              "    }\n",
              "\n",
              "    .dataframe thead th {\n",
              "        text-align: right;\n",
              "    }\n",
              "</style>\n",
              "<table border=\"1\" class=\"dataframe\">\n",
              "  <thead>\n",
              "    <tr style=\"text-align: right;\">\n",
              "      <th></th>\n",
              "      <th>fixed acidity</th>\n",
              "      <th>volatile acidity</th>\n",
              "      <th>citric acid</th>\n",
              "      <th>residual sugar</th>\n",
              "      <th>chlorides</th>\n",
              "      <th>free sulfur dioxide</th>\n",
              "      <th>total sulfur dioxide</th>\n",
              "      <th>density</th>\n",
              "      <th>pH</th>\n",
              "      <th>sulphates</th>\n",
              "      <th>alcohol</th>\n",
              "      <th>quality</th>\n",
              "    </tr>\n",
              "  </thead>\n",
              "  <tbody>\n",
              "    <tr>\n",
              "      <th>498</th>\n",
              "      <td>10.7</td>\n",
              "      <td>0.35</td>\n",
              "      <td>0.53</td>\n",
              "      <td>2.60</td>\n",
              "      <td>0.070</td>\n",
              "      <td>5.0</td>\n",
              "      <td>16.0</td>\n",
              "      <td>0.99720</td>\n",
              "      <td>3.15</td>\n",
              "      <td>0.65</td>\n",
              "      <td>11.0</td>\n",
              "      <td>8</td>\n",
              "    </tr>\n",
              "    <tr>\n",
              "      <th>495</th>\n",
              "      <td>10.7</td>\n",
              "      <td>0.35</td>\n",
              "      <td>0.53</td>\n",
              "      <td>2.60</td>\n",
              "      <td>0.070</td>\n",
              "      <td>5.0</td>\n",
              "      <td>16.0</td>\n",
              "      <td>0.99720</td>\n",
              "      <td>3.15</td>\n",
              "      <td>0.65</td>\n",
              "      <td>11.0</td>\n",
              "      <td>8</td>\n",
              "    </tr>\n",
              "    <tr>\n",
              "      <th>290</th>\n",
              "      <td>8.7</td>\n",
              "      <td>0.52</td>\n",
              "      <td>0.09</td>\n",
              "      <td>2.50</td>\n",
              "      <td>0.091</td>\n",
              "      <td>20.0</td>\n",
              "      <td>49.0</td>\n",
              "      <td>0.99760</td>\n",
              "      <td>3.34</td>\n",
              "      <td>0.86</td>\n",
              "      <td>10.6</td>\n",
              "      <td>7</td>\n",
              "    </tr>\n",
              "    <tr>\n",
              "      <th>1002</th>\n",
              "      <td>9.1</td>\n",
              "      <td>0.29</td>\n",
              "      <td>0.33</td>\n",
              "      <td>2.05</td>\n",
              "      <td>0.063</td>\n",
              "      <td>13.0</td>\n",
              "      <td>27.0</td>\n",
              "      <td>0.99516</td>\n",
              "      <td>3.26</td>\n",
              "      <td>0.84</td>\n",
              "      <td>11.7</td>\n",
              "      <td>7</td>\n",
              "    </tr>\n",
              "    <tr>\n",
              "      <th>997</th>\n",
              "      <td>5.6</td>\n",
              "      <td>0.66</td>\n",
              "      <td>0.00</td>\n",
              "      <td>2.20</td>\n",
              "      <td>0.087</td>\n",
              "      <td>3.0</td>\n",
              "      <td>11.0</td>\n",
              "      <td>0.99378</td>\n",
              "      <td>3.71</td>\n",
              "      <td>0.63</td>\n",
              "      <td>12.8</td>\n",
              "      <td>7</td>\n",
              "    </tr>\n",
              "  </tbody>\n",
              "</table>\n",
              "</div>\n",
              "      <button class=\"colab-df-convert\" onclick=\"convertToInteractive('df-945cc44d-da8c-451e-a5cc-94f325cee60e')\"\n",
              "              title=\"Convert this dataframe to an interactive table.\"\n",
              "              style=\"display:none;\">\n",
              "        \n",
              "  <svg xmlns=\"http://www.w3.org/2000/svg\" height=\"24px\"viewBox=\"0 0 24 24\"\n",
              "       width=\"24px\">\n",
              "    <path d=\"M0 0h24v24H0V0z\" fill=\"none\"/>\n",
              "    <path d=\"M18.56 5.44l.94 2.06.94-2.06 2.06-.94-2.06-.94-.94-2.06-.94 2.06-2.06.94zm-11 1L8.5 8.5l.94-2.06 2.06-.94-2.06-.94L8.5 2.5l-.94 2.06-2.06.94zm10 10l.94 2.06.94-2.06 2.06-.94-2.06-.94-.94-2.06-.94 2.06-2.06.94z\"/><path d=\"M17.41 7.96l-1.37-1.37c-.4-.4-.92-.59-1.43-.59-.52 0-1.04.2-1.43.59L10.3 9.45l-7.72 7.72c-.78.78-.78 2.05 0 2.83L4 21.41c.39.39.9.59 1.41.59.51 0 1.02-.2 1.41-.59l7.78-7.78 2.81-2.81c.8-.78.8-2.07 0-2.86zM5.41 20L4 18.59l7.72-7.72 1.47 1.35L5.41 20z\"/>\n",
              "  </svg>\n",
              "      </button>\n",
              "      \n",
              "  <style>\n",
              "    .colab-df-container {\n",
              "      display:flex;\n",
              "      flex-wrap:wrap;\n",
              "      gap: 12px;\n",
              "    }\n",
              "\n",
              "    .colab-df-convert {\n",
              "      background-color: #E8F0FE;\n",
              "      border: none;\n",
              "      border-radius: 50%;\n",
              "      cursor: pointer;\n",
              "      display: none;\n",
              "      fill: #1967D2;\n",
              "      height: 32px;\n",
              "      padding: 0 0 0 0;\n",
              "      width: 32px;\n",
              "    }\n",
              "\n",
              "    .colab-df-convert:hover {\n",
              "      background-color: #E2EBFA;\n",
              "      box-shadow: 0px 1px 2px rgba(60, 64, 67, 0.3), 0px 1px 3px 1px rgba(60, 64, 67, 0.15);\n",
              "      fill: #174EA6;\n",
              "    }\n",
              "\n",
              "    [theme=dark] .colab-df-convert {\n",
              "      background-color: #3B4455;\n",
              "      fill: #D2E3FC;\n",
              "    }\n",
              "\n",
              "    [theme=dark] .colab-df-convert:hover {\n",
              "      background-color: #434B5C;\n",
              "      box-shadow: 0px 1px 3px 1px rgba(0, 0, 0, 0.15);\n",
              "      filter: drop-shadow(0px 1px 2px rgba(0, 0, 0, 0.3));\n",
              "      fill: #FFFFFF;\n",
              "    }\n",
              "  </style>\n",
              "\n",
              "      <script>\n",
              "        const buttonEl =\n",
              "          document.querySelector('#df-945cc44d-da8c-451e-a5cc-94f325cee60e button.colab-df-convert');\n",
              "        buttonEl.style.display =\n",
              "          google.colab.kernel.accessAllowed ? 'block' : 'none';\n",
              "\n",
              "        async function convertToInteractive(key) {\n",
              "          const element = document.querySelector('#df-945cc44d-da8c-451e-a5cc-94f325cee60e');\n",
              "          const dataTable =\n",
              "            await google.colab.kernel.invokeFunction('convertToInteractive',\n",
              "                                                     [key], {});\n",
              "          if (!dataTable) return;\n",
              "\n",
              "          const docLinkHtml = 'Like what you see? Visit the ' +\n",
              "            '<a target=\"_blank\" href=https://colab.research.google.com/notebooks/data_table.ipynb>data table notebook</a>'\n",
              "            + ' to learn more about interactive tables.';\n",
              "          element.innerHTML = '';\n",
              "          dataTable['output_type'] = 'display_data';\n",
              "          await google.colab.output.renderOutput(dataTable, element);\n",
              "          const docLink = document.createElement('div');\n",
              "          docLink.innerHTML = docLinkHtml;\n",
              "          element.appendChild(docLink);\n",
              "        }\n",
              "      </script>\n",
              "    </div>\n",
              "  </div>\n",
              "  "
            ]
          },
          "metadata": {},
          "execution_count": 10
        }
      ],
      "source": [
        "duplicates = data[data.duplicated(keep=False)]\n",
        "duplicates = duplicates.sort_values(by=['quality'], ascending= False)\n",
        "duplicates.head()"
      ]
    },
    {
      "cell_type": "code",
      "execution_count": null,
      "id": "peripheral-fountain",
      "metadata": {
        "colab": {
          "base_uri": "https://localhost:8080/"
        },
        "id": "peripheral-fountain",
        "outputId": "5b0bd889-3644-446b-a7e4-5bfe46db5a71"
      },
      "outputs": [
        {
          "output_type": "stream",
          "name": "stdout",
          "text": [
            "There is 240 duplicated points in dataset\n"
          ]
        }
      ],
      "source": [
        "print(\"There is {} duplicated points in dataset\".format(data.duplicated().sum()))"
      ]
    },
    {
      "cell_type": "markdown",
      "id": "nominated-adams",
      "metadata": {
        "id": "nominated-adams"
      },
      "source": [
        "\n",
        "\n",
        "We have to get rid of dublicates as they dont contribute in our prediction .\n"
      ]
    },
    {
      "cell_type": "code",
      "execution_count": null,
      "id": "cleared-invention",
      "metadata": {
        "colab": {
          "base_uri": "https://localhost:8080/"
        },
        "id": "cleared-invention",
        "outputId": "a91ac4f6-e6f9-4b3f-c476-5824d9eecd14"
      },
      "outputs": [
        {
          "output_type": "stream",
          "name": "stdout",
          "text": [
            "Total 1359 datapoints remaining with 12 features\n"
          ]
        }
      ],
      "source": [
        "data.drop_duplicates(keep = 'first', inplace = True)\n",
        "print('Total {} datapoints remaining with {} features'.format(data.shape[0], data.shape[1]))"
      ]
    },
    {
      "cell_type": "code",
      "execution_count": null,
      "id": "attractive-holder",
      "metadata": {
        "id": "attractive-holder"
      },
      "outputs": [],
      "source": [
        "columns = list(data.columns.values)\n",
        "\n",
        "labels = data[columns[-1:]]\n",
        "labels = np.array(labels, dtype='int64')\n",
        "features = data[columns[0:-1]]\n",
        "features = np.array(features, dtype='float64')"
      ]
    },
    {
      "cell_type": "markdown",
      "id": "resident-seafood",
      "metadata": {
        "id": "resident-seafood"
      },
      "source": [
        "Use describe() function to show the statistics of each feature."
      ]
    },
    {
      "cell_type": "code",
      "execution_count": null,
      "id": "appreciated-theater",
      "metadata": {
        "colab": {
          "base_uri": "https://localhost:8080/",
          "height": 300
        },
        "id": "appreciated-theater",
        "outputId": "5bdd0cfa-b7f8-47ba-ba2a-bfcda802f929"
      },
      "outputs": [
        {
          "output_type": "execute_result",
          "data": {
            "text/plain": [
              "       fixed acidity  volatile acidity  citric acid  residual sugar  \\\n",
              "count    1359.000000       1359.000000  1359.000000     1359.000000   \n",
              "mean        8.310596          0.529478     0.272333        2.523400   \n",
              "std         1.736990          0.183031     0.195537        1.352314   \n",
              "min         4.600000          0.120000     0.000000        0.900000   \n",
              "25%         7.100000          0.390000     0.090000        1.900000   \n",
              "50%         7.900000          0.520000     0.260000        2.200000   \n",
              "75%         9.200000          0.640000     0.430000        2.600000   \n",
              "max        15.900000          1.580000     1.000000       15.500000   \n",
              "\n",
              "         chlorides  free sulfur dioxide  total sulfur dioxide      density  \\\n",
              "count  1359.000000          1359.000000           1359.000000  1359.000000   \n",
              "mean      0.088124            15.893304             46.825975     0.996709   \n",
              "std       0.049377            10.447270             33.408946     0.001869   \n",
              "min       0.012000             1.000000              6.000000     0.990070   \n",
              "25%       0.070000             7.000000             22.000000     0.995600   \n",
              "50%       0.079000            14.000000             38.000000     0.996700   \n",
              "75%       0.091000            21.000000             63.000000     0.997820   \n",
              "max       0.611000            72.000000            289.000000     1.003690   \n",
              "\n",
              "                pH    sulphates      alcohol  \n",
              "count  1359.000000  1359.000000  1359.000000  \n",
              "mean      3.309787     0.658705    10.432315  \n",
              "std       0.155036     0.170667     1.082065  \n",
              "min       2.740000     0.330000     8.400000  \n",
              "25%       3.210000     0.550000     9.500000  \n",
              "50%       3.310000     0.620000    10.200000  \n",
              "75%       3.400000     0.730000    11.100000  \n",
              "max       4.010000     2.000000    14.900000  "
            ],
            "text/html": [
              "\n",
              "  <div id=\"df-aa5f0c79-b285-476d-84fc-85cd0316bce9\">\n",
              "    <div class=\"colab-df-container\">\n",
              "      <div>\n",
              "<style scoped>\n",
              "    .dataframe tbody tr th:only-of-type {\n",
              "        vertical-align: middle;\n",
              "    }\n",
              "\n",
              "    .dataframe tbody tr th {\n",
              "        vertical-align: top;\n",
              "    }\n",
              "\n",
              "    .dataframe thead th {\n",
              "        text-align: right;\n",
              "    }\n",
              "</style>\n",
              "<table border=\"1\" class=\"dataframe\">\n",
              "  <thead>\n",
              "    <tr style=\"text-align: right;\">\n",
              "      <th></th>\n",
              "      <th>fixed acidity</th>\n",
              "      <th>volatile acidity</th>\n",
              "      <th>citric acid</th>\n",
              "      <th>residual sugar</th>\n",
              "      <th>chlorides</th>\n",
              "      <th>free sulfur dioxide</th>\n",
              "      <th>total sulfur dioxide</th>\n",
              "      <th>density</th>\n",
              "      <th>pH</th>\n",
              "      <th>sulphates</th>\n",
              "      <th>alcohol</th>\n",
              "    </tr>\n",
              "  </thead>\n",
              "  <tbody>\n",
              "    <tr>\n",
              "      <th>count</th>\n",
              "      <td>1359.000000</td>\n",
              "      <td>1359.000000</td>\n",
              "      <td>1359.000000</td>\n",
              "      <td>1359.000000</td>\n",
              "      <td>1359.000000</td>\n",
              "      <td>1359.000000</td>\n",
              "      <td>1359.000000</td>\n",
              "      <td>1359.000000</td>\n",
              "      <td>1359.000000</td>\n",
              "      <td>1359.000000</td>\n",
              "      <td>1359.000000</td>\n",
              "    </tr>\n",
              "    <tr>\n",
              "      <th>mean</th>\n",
              "      <td>8.310596</td>\n",
              "      <td>0.529478</td>\n",
              "      <td>0.272333</td>\n",
              "      <td>2.523400</td>\n",
              "      <td>0.088124</td>\n",
              "      <td>15.893304</td>\n",
              "      <td>46.825975</td>\n",
              "      <td>0.996709</td>\n",
              "      <td>3.309787</td>\n",
              "      <td>0.658705</td>\n",
              "      <td>10.432315</td>\n",
              "    </tr>\n",
              "    <tr>\n",
              "      <th>std</th>\n",
              "      <td>1.736990</td>\n",
              "      <td>0.183031</td>\n",
              "      <td>0.195537</td>\n",
              "      <td>1.352314</td>\n",
              "      <td>0.049377</td>\n",
              "      <td>10.447270</td>\n",
              "      <td>33.408946</td>\n",
              "      <td>0.001869</td>\n",
              "      <td>0.155036</td>\n",
              "      <td>0.170667</td>\n",
              "      <td>1.082065</td>\n",
              "    </tr>\n",
              "    <tr>\n",
              "      <th>min</th>\n",
              "      <td>4.600000</td>\n",
              "      <td>0.120000</td>\n",
              "      <td>0.000000</td>\n",
              "      <td>0.900000</td>\n",
              "      <td>0.012000</td>\n",
              "      <td>1.000000</td>\n",
              "      <td>6.000000</td>\n",
              "      <td>0.990070</td>\n",
              "      <td>2.740000</td>\n",
              "      <td>0.330000</td>\n",
              "      <td>8.400000</td>\n",
              "    </tr>\n",
              "    <tr>\n",
              "      <th>25%</th>\n",
              "      <td>7.100000</td>\n",
              "      <td>0.390000</td>\n",
              "      <td>0.090000</td>\n",
              "      <td>1.900000</td>\n",
              "      <td>0.070000</td>\n",
              "      <td>7.000000</td>\n",
              "      <td>22.000000</td>\n",
              "      <td>0.995600</td>\n",
              "      <td>3.210000</td>\n",
              "      <td>0.550000</td>\n",
              "      <td>9.500000</td>\n",
              "    </tr>\n",
              "    <tr>\n",
              "      <th>50%</th>\n",
              "      <td>7.900000</td>\n",
              "      <td>0.520000</td>\n",
              "      <td>0.260000</td>\n",
              "      <td>2.200000</td>\n",
              "      <td>0.079000</td>\n",
              "      <td>14.000000</td>\n",
              "      <td>38.000000</td>\n",
              "      <td>0.996700</td>\n",
              "      <td>3.310000</td>\n",
              "      <td>0.620000</td>\n",
              "      <td>10.200000</td>\n",
              "    </tr>\n",
              "    <tr>\n",
              "      <th>75%</th>\n",
              "      <td>9.200000</td>\n",
              "      <td>0.640000</td>\n",
              "      <td>0.430000</td>\n",
              "      <td>2.600000</td>\n",
              "      <td>0.091000</td>\n",
              "      <td>21.000000</td>\n",
              "      <td>63.000000</td>\n",
              "      <td>0.997820</td>\n",
              "      <td>3.400000</td>\n",
              "      <td>0.730000</td>\n",
              "      <td>11.100000</td>\n",
              "    </tr>\n",
              "    <tr>\n",
              "      <th>max</th>\n",
              "      <td>15.900000</td>\n",
              "      <td>1.580000</td>\n",
              "      <td>1.000000</td>\n",
              "      <td>15.500000</td>\n",
              "      <td>0.611000</td>\n",
              "      <td>72.000000</td>\n",
              "      <td>289.000000</td>\n",
              "      <td>1.003690</td>\n",
              "      <td>4.010000</td>\n",
              "      <td>2.000000</td>\n",
              "      <td>14.900000</td>\n",
              "    </tr>\n",
              "  </tbody>\n",
              "</table>\n",
              "</div>\n",
              "      <button class=\"colab-df-convert\" onclick=\"convertToInteractive('df-aa5f0c79-b285-476d-84fc-85cd0316bce9')\"\n",
              "              title=\"Convert this dataframe to an interactive table.\"\n",
              "              style=\"display:none;\">\n",
              "        \n",
              "  <svg xmlns=\"http://www.w3.org/2000/svg\" height=\"24px\"viewBox=\"0 0 24 24\"\n",
              "       width=\"24px\">\n",
              "    <path d=\"M0 0h24v24H0V0z\" fill=\"none\"/>\n",
              "    <path d=\"M18.56 5.44l.94 2.06.94-2.06 2.06-.94-2.06-.94-.94-2.06-.94 2.06-2.06.94zm-11 1L8.5 8.5l.94-2.06 2.06-.94-2.06-.94L8.5 2.5l-.94 2.06-2.06.94zm10 10l.94 2.06.94-2.06 2.06-.94-2.06-.94-.94-2.06-.94 2.06-2.06.94z\"/><path d=\"M17.41 7.96l-1.37-1.37c-.4-.4-.92-.59-1.43-.59-.52 0-1.04.2-1.43.59L10.3 9.45l-7.72 7.72c-.78.78-.78 2.05 0 2.83L4 21.41c.39.39.9.59 1.41.59.51 0 1.02-.2 1.41-.59l7.78-7.78 2.81-2.81c.8-.78.8-2.07 0-2.86zM5.41 20L4 18.59l7.72-7.72 1.47 1.35L5.41 20z\"/>\n",
              "  </svg>\n",
              "      </button>\n",
              "      \n",
              "  <style>\n",
              "    .colab-df-container {\n",
              "      display:flex;\n",
              "      flex-wrap:wrap;\n",
              "      gap: 12px;\n",
              "    }\n",
              "\n",
              "    .colab-df-convert {\n",
              "      background-color: #E8F0FE;\n",
              "      border: none;\n",
              "      border-radius: 50%;\n",
              "      cursor: pointer;\n",
              "      display: none;\n",
              "      fill: #1967D2;\n",
              "      height: 32px;\n",
              "      padding: 0 0 0 0;\n",
              "      width: 32px;\n",
              "    }\n",
              "\n",
              "    .colab-df-convert:hover {\n",
              "      background-color: #E2EBFA;\n",
              "      box-shadow: 0px 1px 2px rgba(60, 64, 67, 0.3), 0px 1px 3px 1px rgba(60, 64, 67, 0.15);\n",
              "      fill: #174EA6;\n",
              "    }\n",
              "\n",
              "    [theme=dark] .colab-df-convert {\n",
              "      background-color: #3B4455;\n",
              "      fill: #D2E3FC;\n",
              "    }\n",
              "\n",
              "    [theme=dark] .colab-df-convert:hover {\n",
              "      background-color: #434B5C;\n",
              "      box-shadow: 0px 1px 3px 1px rgba(0, 0, 0, 0.15);\n",
              "      filter: drop-shadow(0px 1px 2px rgba(0, 0, 0, 0.3));\n",
              "      fill: #FFFFFF;\n",
              "    }\n",
              "  </style>\n",
              "\n",
              "      <script>\n",
              "        const buttonEl =\n",
              "          document.querySelector('#df-aa5f0c79-b285-476d-84fc-85cd0316bce9 button.colab-df-convert');\n",
              "        buttonEl.style.display =\n",
              "          google.colab.kernel.accessAllowed ? 'block' : 'none';\n",
              "\n",
              "        async function convertToInteractive(key) {\n",
              "          const element = document.querySelector('#df-aa5f0c79-b285-476d-84fc-85cd0316bce9');\n",
              "          const dataTable =\n",
              "            await google.colab.kernel.invokeFunction('convertToInteractive',\n",
              "                                                     [key], {});\n",
              "          if (!dataTable) return;\n",
              "\n",
              "          const docLinkHtml = 'Like what you see? Visit the ' +\n",
              "            '<a target=\"_blank\" href=https://colab.research.google.com/notebooks/data_table.ipynb>data table notebook</a>'\n",
              "            + ' to learn more about interactive tables.';\n",
              "          element.innerHTML = '';\n",
              "          dataTable['output_type'] = 'display_data';\n",
              "          await google.colab.output.renderOutput(dataTable, element);\n",
              "          const docLink = document.createElement('div');\n",
              "          docLink.innerHTML = docLinkHtml;\n",
              "          element.appendChild(docLink);\n",
              "        }\n",
              "      </script>\n",
              "    </div>\n",
              "  </div>\n",
              "  "
            ]
          },
          "metadata": {},
          "execution_count": 15
        }
      ],
      "source": [
        "dataset = pd.DataFrame({'fixed acidity': features[:, 0], 'volatile acidity': features[:, 1], 'citric acid': features[:, 2]\n",
        "                        , 'residual sugar': features[:, 3], 'chlorides': features[:, 4], 'free sulfur dioxide': features[:, 5]\n",
        "                       , 'total sulfur dioxide': features[:, 6], 'density': features[:, 7], 'pH': features[:, 8]\n",
        "                       , 'sulphates': features[:, 9], 'alcohol': features[:, 10]})\n",
        "dataset.describe()"
      ]
    },
    {
      "cell_type": "markdown",
      "id": "individual-obligation",
      "metadata": {
        "id": "individual-obligation"
      },
      "source": [
        "Let's standardize the dataset (making the mean of each feature =0 and the std = 1)\n",
        "\n"
      ]
    },
    {
      "cell_type": "code",
      "execution_count": null,
      "id": "recognized-charity",
      "metadata": {
        "id": "recognized-charity"
      },
      "outputs": [],
      "source": [
        "features_standardize = standardize(features)"
      ]
    },
    {
      "cell_type": "code",
      "execution_count": null,
      "id": "coral-footage",
      "metadata": {
        "scrolled": true,
        "colab": {
          "base_uri": "https://localhost:8080/",
          "height": 300
        },
        "id": "coral-footage",
        "outputId": "4586e827-0d63-4f9b-ed9b-4372c2a2bee2"
      },
      "outputs": [
        {
          "output_type": "execute_result",
          "data": {
            "text/plain": [
              "       fixed acidity  volatile acidity  citric acid  residual sugar  \\\n",
              "count      1359.0000         1359.0000    1359.0000       1359.0000   \n",
              "mean         -0.0000            0.0000      -0.0000         -0.0000   \n",
              "std           1.0004            1.0004       1.0004          1.0004   \n",
              "min          -2.1370           -2.2380      -1.3933         -1.2009   \n",
              "25%          -0.6972           -0.7623      -0.9328         -0.4612   \n",
              "50%          -0.2365           -0.0518      -0.0631         -0.2392   \n",
              "75%           0.5122            0.6041       0.8066          0.0567   \n",
              "max           4.3709            5.7417       3.7228          9.5994   \n",
              "\n",
              "       chlorides  free sulfur dioxide  total sulfur dioxide    density  \\\n",
              "count  1359.0000            1359.0000             1359.0000  1359.0000   \n",
              "mean      0.0000              -0.0000                0.0000     0.0000   \n",
              "std       1.0004               1.0004                1.0004     1.0004   \n",
              "min      -1.5423              -1.4261               -1.2225    -3.5536   \n",
              "25%      -0.3672              -0.8516               -0.7434    -0.5936   \n",
              "50%      -0.1848              -0.1813               -0.2643    -0.0048   \n",
              "75%       0.0583               0.4890                0.4843     0.5947   \n",
              "max      10.5934               5.3724                7.2514     3.7367   \n",
              "\n",
              "              pH  sulphates    alcohol  \n",
              "count  1359.0000  1359.0000  1359.0000  \n",
              "mean     -0.0000    -0.0000     0.0000  \n",
              "std       1.0004     1.0004     1.0004  \n",
              "min      -3.6765    -1.9267    -1.8789  \n",
              "25%      -0.6439    -0.6372    -0.8619  \n",
              "50%       0.0014    -0.2269    -0.2148  \n",
              "75%       0.5821     0.4179     0.6173  \n",
              "max       4.5181     7.8620     4.1304  "
            ],
            "text/html": [
              "\n",
              "  <div id=\"df-08dbaad5-dd8d-42a5-b9b4-78e46fb52800\">\n",
              "    <div class=\"colab-df-container\">\n",
              "      <div>\n",
              "<style scoped>\n",
              "    .dataframe tbody tr th:only-of-type {\n",
              "        vertical-align: middle;\n",
              "    }\n",
              "\n",
              "    .dataframe tbody tr th {\n",
              "        vertical-align: top;\n",
              "    }\n",
              "\n",
              "    .dataframe thead th {\n",
              "        text-align: right;\n",
              "    }\n",
              "</style>\n",
              "<table border=\"1\" class=\"dataframe\">\n",
              "  <thead>\n",
              "    <tr style=\"text-align: right;\">\n",
              "      <th></th>\n",
              "      <th>fixed acidity</th>\n",
              "      <th>volatile acidity</th>\n",
              "      <th>citric acid</th>\n",
              "      <th>residual sugar</th>\n",
              "      <th>chlorides</th>\n",
              "      <th>free sulfur dioxide</th>\n",
              "      <th>total sulfur dioxide</th>\n",
              "      <th>density</th>\n",
              "      <th>pH</th>\n",
              "      <th>sulphates</th>\n",
              "      <th>alcohol</th>\n",
              "    </tr>\n",
              "  </thead>\n",
              "  <tbody>\n",
              "    <tr>\n",
              "      <th>count</th>\n",
              "      <td>1359.0000</td>\n",
              "      <td>1359.0000</td>\n",
              "      <td>1359.0000</td>\n",
              "      <td>1359.0000</td>\n",
              "      <td>1359.0000</td>\n",
              "      <td>1359.0000</td>\n",
              "      <td>1359.0000</td>\n",
              "      <td>1359.0000</td>\n",
              "      <td>1359.0000</td>\n",
              "      <td>1359.0000</td>\n",
              "      <td>1359.0000</td>\n",
              "    </tr>\n",
              "    <tr>\n",
              "      <th>mean</th>\n",
              "      <td>-0.0000</td>\n",
              "      <td>0.0000</td>\n",
              "      <td>-0.0000</td>\n",
              "      <td>-0.0000</td>\n",
              "      <td>0.0000</td>\n",
              "      <td>-0.0000</td>\n",
              "      <td>0.0000</td>\n",
              "      <td>0.0000</td>\n",
              "      <td>-0.0000</td>\n",
              "      <td>-0.0000</td>\n",
              "      <td>0.0000</td>\n",
              "    </tr>\n",
              "    <tr>\n",
              "      <th>std</th>\n",
              "      <td>1.0004</td>\n",
              "      <td>1.0004</td>\n",
              "      <td>1.0004</td>\n",
              "      <td>1.0004</td>\n",
              "      <td>1.0004</td>\n",
              "      <td>1.0004</td>\n",
              "      <td>1.0004</td>\n",
              "      <td>1.0004</td>\n",
              "      <td>1.0004</td>\n",
              "      <td>1.0004</td>\n",
              "      <td>1.0004</td>\n",
              "    </tr>\n",
              "    <tr>\n",
              "      <th>min</th>\n",
              "      <td>-2.1370</td>\n",
              "      <td>-2.2380</td>\n",
              "      <td>-1.3933</td>\n",
              "      <td>-1.2009</td>\n",
              "      <td>-1.5423</td>\n",
              "      <td>-1.4261</td>\n",
              "      <td>-1.2225</td>\n",
              "      <td>-3.5536</td>\n",
              "      <td>-3.6765</td>\n",
              "      <td>-1.9267</td>\n",
              "      <td>-1.8789</td>\n",
              "    </tr>\n",
              "    <tr>\n",
              "      <th>25%</th>\n",
              "      <td>-0.6972</td>\n",
              "      <td>-0.7623</td>\n",
              "      <td>-0.9328</td>\n",
              "      <td>-0.4612</td>\n",
              "      <td>-0.3672</td>\n",
              "      <td>-0.8516</td>\n",
              "      <td>-0.7434</td>\n",
              "      <td>-0.5936</td>\n",
              "      <td>-0.6439</td>\n",
              "      <td>-0.6372</td>\n",
              "      <td>-0.8619</td>\n",
              "    </tr>\n",
              "    <tr>\n",
              "      <th>50%</th>\n",
              "      <td>-0.2365</td>\n",
              "      <td>-0.0518</td>\n",
              "      <td>-0.0631</td>\n",
              "      <td>-0.2392</td>\n",
              "      <td>-0.1848</td>\n",
              "      <td>-0.1813</td>\n",
              "      <td>-0.2643</td>\n",
              "      <td>-0.0048</td>\n",
              "      <td>0.0014</td>\n",
              "      <td>-0.2269</td>\n",
              "      <td>-0.2148</td>\n",
              "    </tr>\n",
              "    <tr>\n",
              "      <th>75%</th>\n",
              "      <td>0.5122</td>\n",
              "      <td>0.6041</td>\n",
              "      <td>0.8066</td>\n",
              "      <td>0.0567</td>\n",
              "      <td>0.0583</td>\n",
              "      <td>0.4890</td>\n",
              "      <td>0.4843</td>\n",
              "      <td>0.5947</td>\n",
              "      <td>0.5821</td>\n",
              "      <td>0.4179</td>\n",
              "      <td>0.6173</td>\n",
              "    </tr>\n",
              "    <tr>\n",
              "      <th>max</th>\n",
              "      <td>4.3709</td>\n",
              "      <td>5.7417</td>\n",
              "      <td>3.7228</td>\n",
              "      <td>9.5994</td>\n",
              "      <td>10.5934</td>\n",
              "      <td>5.3724</td>\n",
              "      <td>7.2514</td>\n",
              "      <td>3.7367</td>\n",
              "      <td>4.5181</td>\n",
              "      <td>7.8620</td>\n",
              "      <td>4.1304</td>\n",
              "    </tr>\n",
              "  </tbody>\n",
              "</table>\n",
              "</div>\n",
              "      <button class=\"colab-df-convert\" onclick=\"convertToInteractive('df-08dbaad5-dd8d-42a5-b9b4-78e46fb52800')\"\n",
              "              title=\"Convert this dataframe to an interactive table.\"\n",
              "              style=\"display:none;\">\n",
              "        \n",
              "  <svg xmlns=\"http://www.w3.org/2000/svg\" height=\"24px\"viewBox=\"0 0 24 24\"\n",
              "       width=\"24px\">\n",
              "    <path d=\"M0 0h24v24H0V0z\" fill=\"none\"/>\n",
              "    <path d=\"M18.56 5.44l.94 2.06.94-2.06 2.06-.94-2.06-.94-.94-2.06-.94 2.06-2.06.94zm-11 1L8.5 8.5l.94-2.06 2.06-.94-2.06-.94L8.5 2.5l-.94 2.06-2.06.94zm10 10l.94 2.06.94-2.06 2.06-.94-2.06-.94-.94-2.06-.94 2.06-2.06.94z\"/><path d=\"M17.41 7.96l-1.37-1.37c-.4-.4-.92-.59-1.43-.59-.52 0-1.04.2-1.43.59L10.3 9.45l-7.72 7.72c-.78.78-.78 2.05 0 2.83L4 21.41c.39.39.9.59 1.41.59.51 0 1.02-.2 1.41-.59l7.78-7.78 2.81-2.81c.8-.78.8-2.07 0-2.86zM5.41 20L4 18.59l7.72-7.72 1.47 1.35L5.41 20z\"/>\n",
              "  </svg>\n",
              "      </button>\n",
              "      \n",
              "  <style>\n",
              "    .colab-df-container {\n",
              "      display:flex;\n",
              "      flex-wrap:wrap;\n",
              "      gap: 12px;\n",
              "    }\n",
              "\n",
              "    .colab-df-convert {\n",
              "      background-color: #E8F0FE;\n",
              "      border: none;\n",
              "      border-radius: 50%;\n",
              "      cursor: pointer;\n",
              "      display: none;\n",
              "      fill: #1967D2;\n",
              "      height: 32px;\n",
              "      padding: 0 0 0 0;\n",
              "      width: 32px;\n",
              "    }\n",
              "\n",
              "    .colab-df-convert:hover {\n",
              "      background-color: #E2EBFA;\n",
              "      box-shadow: 0px 1px 2px rgba(60, 64, 67, 0.3), 0px 1px 3px 1px rgba(60, 64, 67, 0.15);\n",
              "      fill: #174EA6;\n",
              "    }\n",
              "\n",
              "    [theme=dark] .colab-df-convert {\n",
              "      background-color: #3B4455;\n",
              "      fill: #D2E3FC;\n",
              "    }\n",
              "\n",
              "    [theme=dark] .colab-df-convert:hover {\n",
              "      background-color: #434B5C;\n",
              "      box-shadow: 0px 1px 3px 1px rgba(0, 0, 0, 0.15);\n",
              "      filter: drop-shadow(0px 1px 2px rgba(0, 0, 0, 0.3));\n",
              "      fill: #FFFFFF;\n",
              "    }\n",
              "  </style>\n",
              "\n",
              "      <script>\n",
              "        const buttonEl =\n",
              "          document.querySelector('#df-08dbaad5-dd8d-42a5-b9b4-78e46fb52800 button.colab-df-convert');\n",
              "        buttonEl.style.display =\n",
              "          google.colab.kernel.accessAllowed ? 'block' : 'none';\n",
              "\n",
              "        async function convertToInteractive(key) {\n",
              "          const element = document.querySelector('#df-08dbaad5-dd8d-42a5-b9b4-78e46fb52800');\n",
              "          const dataTable =\n",
              "            await google.colab.kernel.invokeFunction('convertToInteractive',\n",
              "                                                     [key], {});\n",
              "          if (!dataTable) return;\n",
              "\n",
              "          const docLinkHtml = 'Like what you see? Visit the ' +\n",
              "            '<a target=\"_blank\" href=https://colab.research.google.com/notebooks/data_table.ipynb>data table notebook</a>'\n",
              "            + ' to learn more about interactive tables.';\n",
              "          element.innerHTML = '';\n",
              "          dataTable['output_type'] = 'display_data';\n",
              "          await google.colab.output.renderOutput(dataTable, element);\n",
              "          const docLink = document.createElement('div');\n",
              "          docLink.innerHTML = docLinkHtml;\n",
              "          element.appendChild(docLink);\n",
              "        }\n",
              "      </script>\n",
              "    </div>\n",
              "  </div>\n",
              "  "
            ]
          },
          "metadata": {},
          "execution_count": 17
        }
      ],
      "source": [
        "dataset_standardize = pd.DataFrame({'fixed acidity': features_standardize[:, 0], 'volatile acidity': features_standardize[:, 1]\n",
        "                        , 'citric acid': features_standardize[:, 2], 'residual sugar': features_standardize[:, 3]\n",
        "                        , 'chlorides': features_standardize[:, 4], 'free sulfur dioxide': features_standardize[:, 5]\n",
        "                       , 'total sulfur dioxide': features_standardize[:, 6], 'density': features_standardize[:, 7]\n",
        "                        , 'pH': features_standardize[:, 8], 'sulphates': features_standardize[:, 9]\n",
        "                        , 'alcohol': features_standardize[:, 10]})\n",
        "dataset_standardize.describe().round(decimals=4)"
      ]
    },
    {
      "cell_type": "markdown",
      "id": "retired-happening",
      "metadata": {
        "id": "retired-happening"
      },
      "source": [
        "Append another column of ones to the feature space which maps adding the bias"
      ]
    },
    {
      "cell_type": "code",
      "execution_count": null,
      "id": "chemical-there",
      "metadata": {
        "id": "chemical-there"
      },
      "outputs": [],
      "source": [
        "features_final = np.c_[ features_standardize, np.ones(features_standardize.shape[0]) ]"
      ]
    },
    {
      "cell_type": "markdown",
      "id": "opened-conditions",
      "metadata": {
        "id": "opened-conditions"
      },
      "source": [
        "One Hot encode the target feature ***labels***"
      ]
    },
    {
      "cell_type": "code",
      "execution_count": null,
      "id": "damaged-transportation",
      "metadata": {
        "id": "damaged-transportation"
      },
      "outputs": [],
      "source": [
        "labels_final = one_hot_encode(labels)"
      ]
    },
    {
      "cell_type": "code",
      "execution_count": null,
      "id": "august-republican",
      "metadata": {
        "colab": {
          "base_uri": "https://localhost:8080/"
        },
        "id": "august-republican",
        "outputId": "1834c31a-edd5-4fc8-b54a-4085abeb9e58"
      },
      "outputs": [
        {
          "output_type": "execute_result",
          "data": {
            "text/plain": [
              "array([0., 0., 1., 0., 0., 0.])"
            ]
          },
          "metadata": {},
          "execution_count": 20
        }
      ],
      "source": [
        "#test the label array after applying hot encoding\n",
        "labels_final[0]"
      ]
    },
    {
      "cell_type": "markdown",
      "id": "assisted-moisture",
      "metadata": {
        "id": "assisted-moisture"
      },
      "source": [
        "Splitting the data to training and testing sets"
      ]
    },
    {
      "cell_type": "code",
      "execution_count": null,
      "id": "optimum-canon",
      "metadata": {
        "id": "optimum-canon"
      },
      "outputs": [],
      "source": [
        "X_train, y_train, X_test, y_test = shuffle_split_data(features_final, labels_final, 50)"
      ]
    },
    {
      "cell_type": "code",
      "execution_count": null,
      "id": "written-bullet",
      "metadata": {
        "colab": {
          "base_uri": "https://localhost:8080/"
        },
        "id": "written-bullet",
        "outputId": "2560b9cf-dfdc-48ce-8f1b-2500556ee595"
      },
      "outputs": [
        {
          "output_type": "stream",
          "name": "stdout",
          "text": [
            "Training Set shape: (680, 12)\n",
            "Testing Set shape: (679, 12)\n"
          ]
        }
      ],
      "source": [
        "print(\"Training Set shape: \" + str(X_train.shape))\n",
        "print(\"Testing Set shape: \" + str(X_test.shape))"
      ]
    },
    {
      "cell_type": "markdown",
      "id": "strategic-chester",
      "metadata": {
        "id": "strategic-chester"
      },
      "source": [
        "**5. Build neural network model**\n",
        "#### General steps to build neural network:\n",
        "1. Define the neural network structure ( # of input units,  # of hidden units, etc)\n",
        "2. Initialize the model's parameters\n",
        "3. Loop:\n",
        "    - Implement forward propagation\n",
        "    - Compute loss\n",
        "    - Implement backward propagation to get the gradients\n",
        "    - Update parameters\n"
      ]
    },
    {
      "cell_type": "code",
      "execution_count": null,
      "id": "silver-textbook",
      "metadata": {
        "id": "silver-textbook"
      },
      "outputs": [],
      "source": [
        "class ANN:\n",
        "    def __init__(self, layers_size):\n",
        "        self.layers_size = layers_size\n",
        "        self.parameters = {}\n",
        "        self.L = len(self.layers_size)\n",
        "        self.n = 0\n",
        "        self.costs = [] \n",
        "\n",
        "    def relu(self,Z):\n",
        "        '''\n",
        "        The ReLu activation function is to performs a threshold\n",
        "        operation to each input element where values less \n",
        "        than zero are set to zero.\n",
        "        '''\n",
        "        return np.maximum(0,Z)\n",
        "\n",
        "    def dRelu(self, x):\n",
        "        x[x<=0] = 0\n",
        "        x[x>0] = 1\n",
        "        return x\n",
        "    \n",
        "    def softmax(self, Z):\n",
        "        expZ = np.exp(Z - np.max(Z))\n",
        "        return expZ / expZ.sum(axis=0, keepdims=True)\n",
        " \n",
        "    def initialize_parameters(self):\n",
        "        np.random.seed(1)\n",
        " \n",
        "        for l in range(1, len(self.layers_size)):\n",
        "            self.parameters[\"W\" + str(l)] = np.random.randn(self.layers_size[l], self.layers_size[l - 1]) / np.sqrt(\n",
        "                self.layers_size[l - 1])\n",
        " \n",
        "    def forward(self, X):\n",
        "        store = {}\n",
        "        \n",
        "        A = X.T\n",
        "        for l in range(self.L - 1):\n",
        "            Z = self.parameters[\"W\" + str(l + 1)].dot(A)\n",
        "            A = self.relu(Z)\n",
        "            store[\"A\" + str(l + 1)] = A\n",
        "            store[\"W\" + str(l + 1)] = self.parameters[\"W\" + str(l + 1)]\n",
        "            store[\"Z\" + str(l + 1)] = Z\n",
        " \n",
        "        Z = self.parameters[\"W\" + str(self.L)].dot(A) \n",
        "        A = self.softmax(Z)\n",
        "        store[\"A\" + str(self.L)] = A\n",
        "        store[\"W\" + str(self.L)] = self.parameters[\"W\" + str(self.L)]\n",
        "        store[\"Z\" + str(self.L)] = Z\n",
        "        return A, store\n",
        "\n",
        " \n",
        "    def backward(self, X, Y, store):\n",
        "        derivatives = {}\n",
        "        store[\"A0\"] = X.T\n",
        "\n",
        "        A = store[\"A\" + str(self.L)]\n",
        "        dZ = A - Y.T\n",
        " \n",
        "        dW = dZ.dot(store[\"A\" + str(self.L - 1)].T) / self.n\n",
        "        dAPrev = store[\"W\" + str(self.L)].T.dot(dZ)\n",
        "\n",
        "        derivatives[\"dW\" + str(self.L)] = dW\n",
        " \n",
        "        for l in range(self.L - 1, 0, -1):\n",
        "            dZ = dAPrev * self.dRelu(store[\"Z\" + str(l)])\n",
        "            dW = 1. / self.n * dZ.dot(store[\"A\" + str(l - 1)].T)\n",
        "            if l > 1:\n",
        "                dAPrev = store[\"W\" + str(l)].T.dot(dZ)\n",
        " \n",
        "            derivatives[\"dW\" + str(l)] = dW\n",
        " \n",
        "        return derivatives\n",
        " \n",
        "    def fit(self, X, Y, learning_rate, n_iterations):\n",
        "        np.random.seed(1)\n",
        " \n",
        "        self.n = X.shape[0]\n",
        "        self.layers_size.insert(0, X.shape[1])\n",
        "        self.initialize_parameters()\n",
        "        for loop in range(n_iterations):\n",
        "            A, store = self.forward(X)\n",
        "            cost = np.sum((Y - A.T) ** 2)/ self.n  ##Mean Square Error\n",
        "            \n",
        "            derivatives = self.backward(X, Y, store)\n",
        " \n",
        "            for l in range(1, self.L + 1):\n",
        "                self.parameters[\"W\" + str(l)] = self.parameters[\"W\" + str(l)] - learning_rate * derivatives[\n",
        "                    \"dW\" + str(l)]\n",
        " \n",
        "            if loop % 100 == 0:\n",
        "                print(\"Loss: \", cost, \"Train Accuracy:\", self.predict(X, Y))\n",
        " \n",
        "            if loop % 10 == 0:\n",
        "                self.costs.append(cost)\n",
        " \n",
        "    def predict(self, X, Y):\n",
        "        A, cache = self.forward(X)\n",
        "        y_hat = np.argmax(A, axis=0)\n",
        "        Y = np.argmax(Y, axis=1)\n",
        "        accuracy = (y_hat == Y).mean()\n",
        "        return accuracy * 100\n",
        " \n",
        "    def plot_loss(self):\n",
        "        plt.figure()\n",
        "        plt.plot(np.arange(len(self.costs)), self.costs)\n",
        "        plt.xlabel(\"Iterations\")\n",
        "        plt.ylabel(\"Loss\")\n",
        "        plt.show()"
      ]
    },
    {
      "cell_type": "markdown",
      "id": "complex-remainder",
      "metadata": {
        "id": "complex-remainder"
      },
      "source": [
        "**6. Train and plot the accuracy of the model**"
      ]
    },
    {
      "cell_type": "markdown",
      "id": "conscious-heaven",
      "metadata": {
        "id": "conscious-heaven"
      },
      "source": [
        "Set the number of neurons in hidden and ouptut layers"
      ]
    },
    {
      "cell_type": "code",
      "execution_count": null,
      "id": "centered-international",
      "metadata": {
        "id": "centered-international"
      },
      "outputs": [],
      "source": [
        "layersDims = [30, 6]"
      ]
    },
    {
      "cell_type": "markdown",
      "id": "seeing-complement",
      "metadata": {
        "id": "seeing-complement"
      },
      "source": [
        "For learning_rate = 0.05 and 2000 iterations"
      ]
    },
    {
      "cell_type": "code",
      "execution_count": null,
      "id": "imperial-blast",
      "metadata": {
        "colab": {
          "base_uri": "https://localhost:8080/",
          "height": 661
        },
        "id": "imperial-blast",
        "outputId": "4b1d83ee-74a7-4360-d0cb-0c8b5d101e3c"
      },
      "outputs": [
        {
          "output_type": "stream",
          "name": "stdout",
          "text": [
            "Loss:  0.8265116854169533 Train Accuracy: 30.88235294117647\n",
            "Loss:  0.552924267965594 Train Accuracy: 56.76470588235294\n",
            "Loss:  0.5301056990218428 Train Accuracy: 59.411764705882355\n",
            "Loss:  0.5193995249869491 Train Accuracy: 60.147058823529406\n",
            "Loss:  0.5112115302679497 Train Accuracy: 61.029411764705884\n",
            "Loss:  0.5047643175785836 Train Accuracy: 61.617647058823536\n",
            "Loss:  0.49910347432408425 Train Accuracy: 62.5\n",
            "Loss:  0.4942953620959802 Train Accuracy: 63.67647058823529\n",
            "Loss:  0.4900249737445635 Train Accuracy: 63.8235294117647\n",
            "Loss:  0.48627496042851154 Train Accuracy: 63.970588235294116\n",
            "Loss:  0.48288780356042915 Train Accuracy: 64.11764705882354\n",
            "Loss:  0.4798254385316919 Train Accuracy: 64.41176470588236\n",
            "Loss:  0.4770460241275087 Train Accuracy: 64.11764705882354\n",
            "Loss:  0.47433592650664813 Train Accuracy: 64.26470588235294\n",
            "Loss:  0.4718275098080972 Train Accuracy: 64.8529411764706\n",
            "Loss:  0.46942884567218324 Train Accuracy: 65.14705882352942\n",
            "Loss:  0.46702414017657146 Train Accuracy: 65.14705882352942\n",
            "Loss:  0.46459317684261836 Train Accuracy: 65.29411764705883\n",
            "Loss:  0.46222771253579936 Train Accuracy: 65.44117647058823\n",
            "Loss:  0.4600294850679588 Train Accuracy: 65.73529411764706\n",
            "Train Accuracy: 66.02941176470588\n",
            "Test Accuracy: 56.111929307805596\n"
          ]
        },
        {
          "output_type": "display_data",
          "data": {
            "text/plain": [
              "<Figure size 432x288 with 1 Axes>"
            ],
            "image/png": "[encoded data removed]"
          },
          "metadata": {
            "needs_background": "light"
          }
        }
      ],
      "source": [
        "ann1 = ANN(layersDims)\n",
        "ann1.fit(X_train, y_train, learning_rate=0.05, n_iterations=2000)\n",
        "print(\"Train Accuracy:\", ann1.predict(X_train, y_train))\n",
        "print(\"Test Accuracy:\", ann1.predict(X_test, y_test))\n",
        "ann1.plot_loss()"
      ]
    },
    {
      "cell_type": "markdown",
      "id": "manual-galaxy",
      "metadata": {
        "id": "manual-galaxy"
      },
      "source": [
        "For learning_rate = 0.025 and 2000 iterations"
      ]
    },
    {
      "cell_type": "code",
      "execution_count": null,
      "id": "numerous-seminar",
      "metadata": {
        "colab": {
          "base_uri": "https://localhost:8080/",
          "height": 661
        },
        "id": "numerous-seminar",
        "outputId": "f8cbcf26-3629-474f-e9a9-d5df89a8501f"
      },
      "outputs": [
        {
          "output_type": "stream",
          "name": "stdout",
          "text": [
            "Loss:  0.8894058298602097 Train Accuracy: 3.823529411764706\n",
            "Loss:  0.6213799049941816 Train Accuracy: 52.05882352941177\n",
            "Loss:  0.5749360137866725 Train Accuracy: 54.55882352941176\n",
            "Loss:  0.5554752515594532 Train Accuracy: 56.470588235294116\n",
            "Loss:  0.5440699619592395 Train Accuracy: 56.3235294117647\n",
            "Loss:  0.536437724115555 Train Accuracy: 57.205882352941174\n",
            "Loss:  0.5304527176603367 Train Accuracy: 57.205882352941174\n",
            "Loss:  0.5255752431457457 Train Accuracy: 57.49999999999999\n",
            "Loss:  0.5209580649949846 Train Accuracy: 58.970588235294116\n",
            "Loss:  0.5165743777671926 Train Accuracy: 59.55882352941176\n",
            "Loss:  0.5123418931344716 Train Accuracy: 59.55882352941176\n",
            "Loss:  0.5081371251480513 Train Accuracy: 60.147058823529406\n",
            "Loss:  0.5047161504837437 Train Accuracy: 60.29411764705882\n",
            "Loss:  0.501976315519003 Train Accuracy: 60.588235294117645\n",
            "Loss:  0.49942043430201627 Train Accuracy: 61.029411764705884\n",
            "Loss:  0.4971178658959422 Train Accuracy: 60.588235294117645\n",
            "Loss:  0.4950007425812605 Train Accuracy: 60.588235294117645\n",
            "Loss:  0.49300709521053315 Train Accuracy: 60.882352941176464\n",
            "Loss:  0.49101500257424985 Train Accuracy: 61.1764705882353\n",
            "Loss:  0.48905957921082777 Train Accuracy: 61.911764705882355\n",
            "Train Accuracy: 62.05882352941177\n",
            "Test Accuracy: 58.615611192930785\n"
          ]
        },
        {
          "output_type": "display_data",
          "data": {
            "text/plain": [
              "<Figure size 432x288 with 1 Axes>"
            ],
            "image/png": "[encoded data removed]"
          },
          "metadata": {
            "needs_background": "light"
          }
        }
      ],
      "source": [
        "ann2 = ANN(layersDims)\n",
        "ann2.fit(X_train, y_train, learning_rate=0.025, n_iterations=2000)\n",
        "print(\"Train Accuracy:\", ann2.predict(X_train, y_train))\n",
        "print(\"Test Accuracy:\", ann2.predict(X_test, y_test))\n",
        "ann2.plot_loss()"
      ]
    },
    {
      "cell_type": "markdown",
      "id": "color-depth",
      "metadata": {
        "id": "color-depth"
      },
      "source": [
        "For learning_rate = 0.01 and 2000 iterations"
      ]
    },
    {
      "cell_type": "code",
      "execution_count": null,
      "id": "expressed-venice",
      "metadata": {
        "colab": {
          "base_uri": "https://localhost:8080/",
          "height": 661
        },
        "id": "expressed-venice",
        "outputId": "8c7c7d16-0f48-4310-a7db-9d8f53f43ac9"
      },
      "outputs": [
        {
          "output_type": "stream",
          "name": "stdout",
          "text": [
            "Loss:  0.8978652159512719 Train Accuracy: 10.882352941176471\n",
            "Loss:  0.7668310715262123 Train Accuracy: 42.79411764705882\n",
            "Loss:  0.6768498407111767 Train Accuracy: 45.44117647058823\n",
            "Loss:  0.6306080286311405 Train Accuracy: 48.529411764705884\n",
            "Loss:  0.60545820453922 Train Accuracy: 51.911764705882355\n",
            "Loss:  0.588090590604366 Train Accuracy: 54.11764705882353\n",
            "Loss:  0.5745355926247423 Train Accuracy: 56.1764705882353\n",
            "Loss:  0.5631700664853023 Train Accuracy: 57.35294117647059\n",
            "Loss:  0.5532891641553535 Train Accuracy: 57.05882352941176\n",
            "Loss:  0.5452404766236651 Train Accuracy: 58.08823529411765\n",
            "Loss:  0.538511851513434 Train Accuracy: 58.529411764705884\n",
            "Loss:  0.5327669493089209 Train Accuracy: 58.235294117647065\n",
            "Loss:  0.5280805885524511 Train Accuracy: 58.235294117647065\n",
            "Loss:  0.524307310447532 Train Accuracy: 58.6764705882353\n",
            "Loss:  0.5210240326360006 Train Accuracy: 59.11764705882353\n",
            "Loss:  0.5183351734878177 Train Accuracy: 59.26470588235294\n",
            "Loss:  0.5158907777014808 Train Accuracy: 60.44117647058823\n",
            "Loss:  0.5137657006268083 Train Accuracy: 60.588235294117645\n",
            "Loss:  0.5118231900161689 Train Accuracy: 60.588235294117645\n",
            "Loss:  0.5099587734509707 Train Accuracy: 61.029411764705884\n",
            "Train Accuracy: 61.029411764705884\n",
            "Test Accuracy: 56.995581737849776\n"
          ]
        },
        {
          "output_type": "display_data",
          "data": {
            "text/plain": [
              "<Figure size 432x288 with 1 Axes>"
            ],
            "image/png": "[encoded data removed]"
          },
          "metadata": {
            "needs_background": "light"
          }
        }
      ],
      "source": [
        "ann3 = ANN(layersDims)\n",
        "ann3.fit(X_train, y_train, learning_rate=0.01, n_iterations=2000)\n",
        "print(\"Train Accuracy:\", ann3.predict(X_train, y_train))\n",
        "print(\"Test Accuracy:\", ann3.predict(X_test, y_test))\n",
        "ann3.plot_loss()"
      ]
    }
  ],
  "metadata": {
    "kernelspec": {
      "display_name": "Python 3",
      "language": "python",
      "name": "python3"
    },
    "language_info": {
      "codemirror_mode": {
        "name": "ipython",
        "version": 3
      },
      "file_extension": ".py",
      "mimetype": "text/x-python",
      "name": "python",
      "nbconvert_exporter": "python",
      "pygments_lexer": "ipython3",
      "version": "3.7.6"
    },
    "colab": {
      "name": "neural_net.ipynb",
      "provenance": [],
      "collapsed_sections": []
    }
  },
  "nbformat": 4,
  "nbformat_minor": 5
}